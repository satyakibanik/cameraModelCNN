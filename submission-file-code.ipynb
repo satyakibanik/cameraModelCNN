{
 "cells": [
  {
   "cell_type": "code",
   "execution_count": null,
   "metadata": {
    "_cell_guid": "8e119507-463b-4349-bf53-a0d70f59d0e1",
    "_uuid": "c17b461b803801610e2eabc2e6f492301f9084c6"
   },
   "outputs": [],
   "source": [
    "import glob\n",
    "import os\n",
    "import numpy as np\n",
    "import cv2\n",
    "import pandas    \n",
    "\n",
    "readpath = 'E:/IP/test/*.tif'\n",
    "labels = 'E:/IP/Labels/test.csv'\n",
    "\n",
    "images = glob.glob(readpath)\n",
    "labelfile = open(labels,'w')\n",
    "\n",
    "for image in images:\n",
    "    labelfile.write(image+'\\n')\n",
    "\n",
    "labelfile.close()\n",
    "\n",
    "df = pandas.read_csv(labels)\n",
    "\n",
    "rows = df.iterrows()\n",
    "index= []\n",
    "X= []\n",
    "\n",
    "for row in rows:\n",
    "    image = row[1][0]\n",
    "    img = cv2.imread(image)\n",
    "    #get the name of image\n",
    "    indx= os.path.basename(image)\n",
    "    img = cv2.resize(img,(126,126))\n",
    "    img=np.asarray(img)\n",
    "    imgRes=img/255 \n",
    "    X.append(imgRes)\n",
    "    #appending the image name in index array\n",
    "    index.append(indx)\n",
    " \n",
    "x_test=np.asarray(X)"
   ]
  },
  {
   "cell_type": "code",
   "execution_count": null,
   "metadata": {
    "_cell_guid": "941710b6-33b6-4c40-89c5-c30452eeba7e",
    "_uuid": "a7e4afe4d4802460f236159cce4b73b031932c77"
   },
   "outputs": [],
   "source": [
    "import os\n",
    "import cv2\n",
    "import numpy as np\n",
    "import pandas as pd\n",
    "from keras.models import Sequential\n",
    "from keras.layers import Dense,Dropout,Flatten\n",
    "from keras.layers.convolutional import Convolution2D,MaxPooling2D\n",
    "from keras import backend as K\n",
    "K.set_image_data_format('channels_last')\n",
    "\n",
    "seed = 7\n",
    "np.random.seed(seed)\n",
    "num_classes =10\n",
    "\n",
    "\n",
    "def CNN_model():\n",
    "    model = Sequential()\n",
    "    model.add(Convolution2D(64, 3, 3, border_mode= 'valid', input_shape=(126,126,3),activation= 'relu' ))\n",
    "    model.add(Convolution2D(32, 3, 3, activation= 'relu' ))\n",
    "    model.add(MaxPooling2D(pool_size=(2, 2)))\n",
    "    model.add(Dropout(0.2))\n",
    "    model.add(Flatten()) \n",
    "    model.add(Dense(128, activation= 'relu' ))\n",
    "    model.add(Dense(num_classes, activation= 'softmax' )) \n",
    "    model.compile(loss= 'categorical_crossentropy' , optimizer= 'adam' , metrics=[ 'accuracy' ])\n",
    "    return model\n",
    "\n",
    "\n",
    "model = CNN_model()\n",
    "model.load_weights('best.hdf5')\n",
    "\n",
    "dict = {1:'HTC-1-M7',2:'iPhone-4s',3:'iPhone-6',4:'LG-Nexus-5x',5:'Motorola-Droid-Maxx',6:'Motorola-Nexus-6',7:'Motorola-X',8:'Samsung-Galaxy-Note3',9:'Samsung-Galaxy-S4',10:'Sony-NEX-7'}\n",
    "    \n",
    "predicts= []\n",
    "\n",
    "for i in range(2640):\n",
    "    y = model.predict_classes(x_test[i])\n",
    "    classno = np.ndarray.tolist(y)\n",
    "    objectclass = dict[classno[0]]\n",
    "    predicts.append(objectclass)\n",
    "       \n",
    "df = pd.DataFrame(columns=['fname', 'camera'])\n",
    "df['fname'] = index\n",
    "df['camera'] = predicts\n",
    "df.to_csv(\"sub.csv\", index=False)"
   ]
  },
  {
   "cell_type": "code",
   "execution_count": null,
   "metadata": {},
   "outputs": [],
   "source": []
  },
  {
   "cell_type": "code",
   "execution_count": null,
   "metadata": {
    "_cell_guid": "80eefe0c-1783-48d4-b54e-542665e761b6",
    "_uuid": "a7d575b964899e261ec2c53da6804a90383309ca"
   },
   "outputs": [],
   "source": []
  },
  {
   "cell_type": "code",
   "execution_count": null,
   "metadata": {
    "_uuid": "039159d1c88582419481889acb6d8c45aba4b4a4"
   },
   "outputs": [],
   "source": []
  }
 ],
 "metadata": {
  "kernelspec": {
   "display_name": "Python 3",
   "language": "python",
   "name": "python3"
  },
  "language_info": {
   "codemirror_mode": {
    "name": "ipython",
    "version": 3
   },
   "file_extension": ".py",
   "mimetype": "text/x-python",
   "name": "python",
   "nbconvert_exporter": "python",
   "pygments_lexer": "ipython3",
   "version": "3.5.4"
  }
 },
 "nbformat": 4,
 "nbformat_minor": 1
}
