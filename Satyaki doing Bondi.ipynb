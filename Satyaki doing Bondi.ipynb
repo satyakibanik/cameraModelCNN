{
 "cells": [
  {
   "cell_type": "code",
   "execution_count": 1,
   "metadata": {
    "_cell_guid": "69b2ebb2-71df-4bdb-9156-b3ca0d19478f",
    "_uuid": "0df9e934921cd91b0358b5752afe56ede37f3e1b"
   },
   "outputs": [
    {
     "ename": "ImportError",
     "evalue": "No module named 'PIL'",
     "output_type": "error",
     "traceback": [
      "\u001b[1;31m---------------------------------------------------------------------------\u001b[0m",
      "\u001b[1;31mImportError\u001b[0m                               Traceback (most recent call last)",
      "\u001b[1;32m<ipython-input-1-eb571bb601d6>\u001b[0m in \u001b[0;36m<module>\u001b[1;34m()\u001b[0m\n\u001b[0;32m      5\u001b[0m \u001b[1;32mimport\u001b[0m \u001b[0mpandas\u001b[0m \u001b[1;32mas\u001b[0m \u001b[0mpd\u001b[0m \u001b[1;31m# data processing, CSV file I/O (e.g. pd.read_csv)\u001b[0m\u001b[1;33m\u001b[0m\u001b[0m\n\u001b[0;32m      6\u001b[0m \u001b[1;32mimport\u001b[0m \u001b[0mos\u001b[0m\u001b[1;33m\u001b[0m\u001b[0m\n\u001b[1;32m----> 7\u001b[1;33m \u001b[1;32mfrom\u001b[0m \u001b[0mPIL\u001b[0m \u001b[1;32mimport\u001b[0m \u001b[0mImage\u001b[0m\u001b[1;33m\u001b[0m\u001b[0m\n\u001b[0m\u001b[0;32m      8\u001b[0m \u001b[1;32mfrom\u001b[0m \u001b[0mskimage\u001b[0m\u001b[1;33m.\u001b[0m\u001b[0mtransform\u001b[0m \u001b[1;32mimport\u001b[0m \u001b[0mresize\u001b[0m\u001b[1;33m\u001b[0m\u001b[0m\n\u001b[0;32m      9\u001b[0m \u001b[1;32mfrom\u001b[0m \u001b[0mrandom\u001b[0m \u001b[1;32mimport\u001b[0m \u001b[0mshuffle\u001b[0m\u001b[1;33m\u001b[0m\u001b[0m\n",
      "\u001b[1;31mImportError\u001b[0m: No module named 'PIL'"
     ]
    }
   ],
   "source": [
    "# This Python 3 environment comes with many helpful analytics libraries installed\n",
    "# It is defined by the kaggle/python docker image: https://github.com/kaggle/docker-python\n",
    "# For example, here's several helpful packages to load in \n",
    "import numpy as np # linear algebra\n",
    "import pandas as pd # data processing, CSV file I/O (e.g. pd.read_csv)\n",
    "import os\n",
    "from PIL import Image\n",
    "from skimage.transform import resize\n",
    "from random import shuffle\n",
    "\n",
    "\n",
    "# Input data files are available in the \"../input/\" directory.\n",
    "# For example, running this (by clicking run or pressing Shift+Enter) will list the files in the input directory\n",
    "\n",
    "from subprocess import check_output\n",
    "print(check_output([\"ls\", \"../input\"]).decode(\"utf8\"))\n",
    "\n",
    "# Any results you write to the current directory are saved as output."
   ]
  },
  {
   "cell_type": "code",
   "execution_count": null,
   "metadata": {
    "_cell_guid": "de580565-a3b5-4b0c-b6e3-3fbd4bfd0b78",
    "_uuid": "0fab7b111545360cebd3388b6ac8030a5a1150e8",
    "collapsed": true
   },
   "outputs": [],
   "source": [
    "list_paths = []\n",
    "for subdir, dirs, files in os.walk(\"../input\"):\n",
    "    for file in files:\n",
    "        #print os.path.join(subdir, file)\n",
    "        filepath = subdir + os.sep + file\n",
    "        list_paths.append(filepath)\n",
    "        "
   ]
  },
  {
   "cell_type": "code",
   "execution_count": null,
   "metadata": {
    "_cell_guid": "ad2510c7-6cdc-4683-bdda-44de6e7b59e2",
    "_uuid": "cd6a34a8b8ac61560d75d06512e721e53706e67a",
    "collapsed": true
   },
   "outputs": [],
   "source": [
    "list_train = [filepath for filepath in list_paths if \"train/\" in filepath]\n",
    "shuffle(list_train)\n",
    "list_test = [filepath for filepath in list_paths if \"test/\" in filepath]\n",
    "\n",
    "list_train = list_train\n",
    "list_test = list_test\n",
    "index = [os.path.basename(filepath) for filepath in list_test]\n",
    "\n"
   ]
  },
  {
   "cell_type": "code",
   "execution_count": null,
   "metadata": {
    "_cell_guid": "16c8699d-2222-4de0-a297-0f1d9e77445b",
    "_uuid": "d7273fd6ff53762125d5248a243d1012ff3ce9c1",
    "collapsed": true
   },
   "outputs": [],
   "source": [
    "list_classes = list(set([os.path.dirname(filepath).split(os.sep)[-1] for filepath in list_paths if \"train\" in filepath]))\n"
   ]
  },
  {
   "cell_type": "code",
   "execution_count": null,
   "metadata": {
    "_cell_guid": "850c5764-e009-46ce-9080-96e0f47ffbc6",
    "_uuid": "56ac73fe15195693a58a8171c64dffadadec31f8",
    "collapsed": true
   },
   "outputs": [],
   "source": [
    "list_classes = ['Sony-NEX-7',\n",
    " 'Motorola-X',\n",
    " 'HTC-1-M7',\n",
    " 'Samsung-Galaxy-Note3',\n",
    " 'Motorola-Droid-Maxx',\n",
    " 'iPhone-4s',\n",
    " 'iPhone-6',\n",
    " 'LG-Nexus-5x',\n",
    " 'Samsung-Galaxy-S4',\n",
    " 'Motorola-Nexus-6']\n"
   ]
  },
  {
   "cell_type": "code",
   "execution_count": null,
   "metadata": {
    "_cell_guid": "abacfb3c-10df-4f19-b032-2b3fb06c48dc",
    "_uuid": "a2a733db5a2250c7daacd3e5bb12794d38c78a8c",
    "collapsed": true
   },
   "outputs": [],
   "source": [
    "def get_class_from_path(filepath):\n",
    "    return os.path.dirname(filepath).split(os.sep)[-1]\n",
    "\n",
    "def read_and_resize(filepath):\n",
    "    im_array = np.array(Image.open((filepath)), dtype=\"uint8\")\n",
    "    pil_im = Image.fromarray(im_array)\n",
    "    new_array = np.array(pil_im.resize((256,256)))\n",
    "    return new_array/255\n",
    "\n",
    "def label_transform(labels):\n",
    "    labels = pd.get_dummies(pd.Series(labels))\n",
    "    label_index = labels.columns.values\n",
    "\n",
    "    return labels, label_index\n",
    "\n",
    "    "
   ]
  },
  {
   "cell_type": "code",
   "execution_count": null,
   "metadata": {
    "_cell_guid": "2ec89065-7057-4557-8d19-57c61799f904",
    "_kg_hide-output": true,
    "_uuid": "d601bdbd9ee568b31ed0c3ac8a1ccafbabacca7f",
    "collapsed": true
   },
   "outputs": [],
   "source": [
    "X_train = np.array([read_and_resize(filepath) for filepath in list_train])\n",
    "X_test = np.array([read_and_resize(filepath) for filepath in list_test])\n"
   ]
  },
  {
   "cell_type": "code",
   "execution_count": null,
   "metadata": {
    "_cell_guid": "d49ad9f6-aa39-4de4-9e3f-34d7e9a3cd44",
    "_uuid": "37c83c31f7619f00ae1e47d29cdf0b9d2517de7b",
    "collapsed": true
   },
   "outputs": [],
   "source": [
    "labels = [get_class_from_path(filepath) for filepath in list_train]\n",
    "y, label_index = label_transform(labels)\n",
    "y = np.array(y)\n"
   ]
  },
  {
   "cell_type": "code",
   "execution_count": null,
   "metadata": {
    "_cell_guid": "b8ffb7b2-4b03-409b-ba7b-1208cb000395",
    "_uuid": "d784c240abe66ef95450913717748778cd0996bb",
    "collapsed": true
   },
   "outputs": [],
   "source": [
    "from keras.callbacks import LearningRateScheduler, EarlyStopping \n",
    "from keras.callbacks import ReduceLROnPlateau, TensorBoard\n",
    "from keras import optimizers, losses, activations, models\n",
    "#from keras.layers import Input \n",
    "#from keras.layers import BatchNormalization, GlobalMaxPool2D, Concatenate\n",
    "import numpy as np\n",
    "from keras.models import Sequential\n",
    "from keras.layers import Dense\n",
    "from keras.layers import Flatten\n",
    "from keras.layers import Dropout\n",
    "from keras.layers.convolutional import Convolution2D,MaxPooling2D\n",
    "from keras.callbacks import ModelCheckpoint\n",
    "#input_shape = (256, 256, 3)\n",
    "nclass = len(label_index)\n",
    "\n",
    "\n",
    "def get_model():\n",
    "    \n",
    "    model = Sequential()\n",
    "    #conv 1\n",
    "    model.add(Convolution2D(32, kernel_size=4, border_mode= 'valid', input_shape=(256,256,3), activation= 'relu' ))\n",
    "    model.add(MaxPooling2D(pool_size=(2, 2)))\n",
    "    #conv 2\n",
    "    model.add(Convolution2D(48,kernel_size=5, activation= 'relu' ))\n",
    "    model.add(MaxPooling2D(pool_size=(2, 2)))\n",
    "    #conv 3\n",
    "    model.add(Convolution2D(64,kernel_size=5, activation= 'relu' ))\n",
    "    model.add(MaxPooling2D(pool_size=(2, 2)))\n",
    "    #conv 4\n",
    "    model.add(Convolution2D(128,kernel_size=5, activation= 'relu' ))\n",
    "    \n",
    "    #model.add(MaxPooling2D(pool_size=(2, 2), strides=2))\n",
    "    #model.add(Convolution2D(64, 3, 3, activation= 'relu' ))\n",
    "    #model.add(Convolution2D(32, 3, 3, activation= 'relu' ))\n",
    "    #model.add(MaxPooling2D(pool_size=(2, 2)))\n",
    "    #model.add(Dropout(0.3))\n",
    "    model.add(Flatten()) \n",
    "    #model.add(Dense(228, activation= 'relu' ))\n",
    "    model.add(Dense(128, activation= 'relu' ))  \n",
    "    model.add(Dense(nclass, activation= 'softmax' )) \n",
    "    model.compile(loss= 'categorical_crossentropy' , optimizer= 'adam' , metrics=[ 'accuracy' ])\n",
    "    return model\n",
    "    \n",
    "    \n",
    "model = get_model()\n",
    "model.summary()\n",
    "\n",
    "file_path=\"weights.best.hdf5\"\n",
    "# check will store the best model weight which will monitor the validation accuracy not train accuracy\n",
    "check  = ModelCheckpoint(file_path, monitor = 'val_acc', verbose=1, save_best_only=True, mode='max' )\n",
    "#early = EarlyStopping(monitor=\"val_acc\", mode=\"max\", patience=1)\n",
    "\n",
    "checkpoints = [check]\n",
    "\n",
    "#model.fit(x, y_train, validation_split = 0.3,epochs=25, batch_size=30,verbose=2, callbacks = checkpoints)\n",
    "history = model.fit(X_train, y, validation_split=0.3, epochs=10, shuffle=True,batch_size=30, verbose=2,\n",
    "                              callbacks=checkpoints)\n",
    "\n",
    "'''\n",
    "model = get_model()\n",
    "file_path=\"weights.best.hdf5\"\n",
    "\n",
    "checkpoint = ModelCheckpoint(file_path, monitor='val_acc', verbose=1, save_best_only=True, mode='max')\n",
    "\n",
    "early = EarlyStopping(monitor=\"val_acc\", mode=\"max\", patience=1)\n",
    "\n",
    "callbacks_list = [checkpoint, early] #early\n",
    "\n",
    "history = model.fit(X_train, y, validation_split=0.1, epochs=3, shuffle=True, verbose=2,\n",
    "                              callbacks=callbacks_list)\n",
    "'''\n",
    "\n",
    "#print(history)\n",
    "\n"
   ]
  },
  {
   "cell_type": "code",
   "execution_count": null,
   "metadata": {
    "_cell_guid": "c61441e5-fbd3-4aba-a90a-e0083b92a944",
    "_uuid": "412a548f87be342504eb28d8eed716935ec5c346"
   },
   "outputs": [],
   "source": [
    "model.load_weights(file_path)\n",
    "\n",
    "predicts = model.predict(X_test)\n",
    "predicts = np.argmax(predicts, axis=1)\n",
    "predicts = [label_index[p] for p in predicts]\n",
    "\n",
    "df = pd.DataFrame(columns=['fname', 'camera'])\n",
    "df['fname'] = index\n",
    "df['camera'] = predicts\n",
    "df.to_csv(\"sub.csv\", index=False) "
   ]
  }
 ],
 "metadata": {
  "kernelspec": {
   "display_name": "Python 3",
   "language": "python",
   "name": "python3"
  },
  "language_info": {
   "codemirror_mode": {
    "name": "ipython",
    "version": 3
   },
   "file_extension": ".py",
   "mimetype": "text/x-python",
   "name": "python",
   "nbconvert_exporter": "python",
   "pygments_lexer": "ipython3",
   "version": "3.5.4"
  }
 },
 "nbformat": 4,
 "nbformat_minor": 1
}
