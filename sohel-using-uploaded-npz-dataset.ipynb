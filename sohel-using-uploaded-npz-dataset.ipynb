{
 "cells": [
  {
   "cell_type": "code",
   "execution_count": null,
   "metadata": {
    "_cell_guid": "8e9bd248-2d27-4573-b9f0-8afe4cf8f6b5",
    "_uuid": "06575b62ffc344841d70eda2b6bd22d416631085",
    "collapsed": true
   },
   "outputs": [],
   "source": [
    "# This Python 3 environment comes with many helpful analytics libraries installed\n",
    "# It is defined by the kaggle/python docker image: https://github.com/kaggle/docker-python\n",
    "# For example, here's several helpful packages to load in \n",
    "\n",
    "import numpy as np # linear algebra\n",
    "import pandas as pd # data processing, CSV file I/O (e.g. pd.read_csv)\n",
    "\n",
    "# Input data files are available in the \"../input/\" directory.\n",
    "# For example, running this (by clicking run or pressing Shift+Enter) will list the files in the input directory\n",
    "\n",
    "from subprocess import check_output\n",
    "print(check_output([\"ls\", \"../input\"]).decode(\"utf8\"))\n",
    "\n",
    "# Any results you write to the current directory are saved as output."
   ]
  },
  {
   "cell_type": "code",
   "execution_count": null,
   "metadata": {
    "_uuid": "40c13d14029eaa2bc57f928f2b6bbdc154385fde"
   },
   "outputs": [
    {
     "name": "stderr",
     "output_type": "stream",
     "text": [
      "Using TensorFlow backend.\n",
      "/opt/conda/lib/python3.6/importlib/_bootstrap.py:219: RuntimeWarning: compiletime version 3.5 of module 'tensorflow.python.framework.fast_tensor_util' does not match runtime version 3.6\n",
      "  return f(*args, **kwds)\n",
      "/opt/conda/lib/python3.6/site-packages/ipykernel_launcher.py:32: UserWarning: Update your `Conv2D` call to the Keras 2 API: `Conv2D(64, kernel_size=3, strides=2, input_shape=(256, 256,..., activation=\"relu\", padding=\"valid\")`\n"
     ]
    },
    {
     "name": "stdout",
     "output_type": "stream",
     "text": [
      "_________________________________________________________________\n",
      "Layer (type)                 Output Shape              Param #   \n",
      "=================================================================\n",
      "conv2d_1 (Conv2D)            (None, 127, 127, 64)      1792      \n",
      "_________________________________________________________________\n",
      "conv2d_2 (Conv2D)            (None, 63, 63, 64)        36928     \n",
      "_________________________________________________________________\n",
      "conv2d_3 (Conv2D)            (None, 61, 61, 32)        18464     \n",
      "_________________________________________________________________\n",
      "max_pooling2d_1 (MaxPooling2 (None, 30, 30, 32)        0         \n",
      "_________________________________________________________________\n",
      "dropout_1 (Dropout)          (None, 30, 30, 32)        0         \n",
      "_________________________________________________________________\n",
      "flatten_1 (Flatten)          (None, 28800)             0         \n",
      "_________________________________________________________________\n",
      "dense_1 (Dense)              (None, 256)               7373056   \n",
      "_________________________________________________________________\n",
      "dense_2 (Dense)              (None, 128)               32896     \n",
      "_________________________________________________________________\n",
      "dense_3 (Dense)              (None, 10)                1290      \n",
      "=================================================================\n",
      "Total params: 7,464,426\n",
      "Trainable params: 7,464,426\n",
      "Non-trainable params: 0\n",
      "_________________________________________________________________\n",
      "Train on 5200 samples, validate on 2229 samples\n",
      "Epoch 1/10\n"
     ]
    }
   ],
   "source": [
    "import numpy as np\n",
    "from keras.models import Sequential\n",
    "from keras.layers import Dense\n",
    "from keras.layers import Flatten\n",
    "from keras.layers import Dropout\n",
    "from keras.layers.convolutional import Convolution2D,MaxPooling2D\n",
    "from keras.callbacks import ModelCheckpoint\n",
    "from keras import backend as K\n",
    "K.set_image_data_format('channels_last')\n",
    "\n",
    "\n",
    "seed = 7\n",
    "np.random.seed(seed)\n",
    "num_classes = 10 \n",
    "\n",
    "\n",
    "npzfile = '../input/labels.npz'\n",
    "\n",
    "dataset =  np.load(npzfile)\n",
    "x_train = dataset['X_train']\n",
    "y_train = dataset['Y_train']\n",
    "\n",
    "\n",
    "\n",
    "x = x_train/255 \n",
    "# normalizing \n",
    "\n",
    "def CNN_model():\n",
    "    # create model\n",
    "    \n",
    "    model = Sequential()\n",
    "    model.add(Convolution2D(64,kernel_size=3, strides=2 , border_mode= 'valid', input_shape=(256,256,3), activation= 'relu' ))\n",
    "    model.add(Convolution2D(64,kernel_size=3, strides=2 ,activation= 'relu' ))\n",
    "    model.add(Convolution2D(32,kernel_size=3, strides=1 ,activation= 'relu' ))\n",
    "    model.add(MaxPooling2D(pool_size=(2, 2)))\n",
    "    model.add(Dropout(0.3))\n",
    "    model.add(Flatten()) \n",
    "    model.add(Dense(256, activation= 'relu' ))\n",
    "    #model.add(Dense(64, activation= 'relu' ))\n",
    "    model.add(Dense(128, activation= 'relu' ))  \n",
    "    model.add(Dense(num_classes, activation= 'softmax' )) \n",
    "    model.compile(loss= 'categorical_crossentropy' , optimizer= 'adam' , metrics=[ 'accuracy' ])\n",
    "    return model\n",
    "  \n",
    "    \n",
    "    \n",
    "    \n",
    "model = CNN_model()\n",
    "\n",
    "model.summary()\n",
    "# check will store the best model weight which will monitor the validation accuracy not train accuracy\n",
    "check  = ModelCheckpoint('best.hdf5', monitor = 'val_categorical_accuracy' )\n",
    "checkpoints = [check]\n",
    "\n",
    "model.fit(x, y_train, validation_split = 0.3,epochs=10, batch_size=50, shuffle=True ,verbose=2, callbacks = checkpoints)\n",
    "    \n",
    "    "
   ]
  },
  {
   "cell_type": "code",
   "execution_count": null,
   "metadata": {
    "_uuid": "06cf713f5b966cd3b90cb38a49539dad9565cc2c",
    "collapsed": true
   },
   "outputs": [],
   "source": []
  }
 ],
 "metadata": {
  "kernelspec": {
   "display_name": "Python 3",
   "language": "python",
   "name": "python3"
  },
  "language_info": {
   "codemirror_mode": {
    "name": "ipython",
    "version": 3
   },
   "file_extension": ".py",
   "mimetype": "text/x-python",
   "name": "python",
   "nbconvert_exporter": "python",
   "pygments_lexer": "ipython3",
   "version": "3.5.4"
  }
 },
 "nbformat": 4,
 "nbformat_minor": 1
}
